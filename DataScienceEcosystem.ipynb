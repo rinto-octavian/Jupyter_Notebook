{
 "cells": [
  {
   "cell_type": "markdown",
   "id": "35615fb9-9570-4209-9cd2-192d84346535",
   "metadata": {},
   "source": [
    "# Data Science Tools and Ecosystem"
   ]
  },
  {
   "cell_type": "markdown",
   "id": "d2e3765b-aae4-4651-9d3f-486c07039e4d",
   "metadata": {},
   "source": [
    "In this notebook, Data Science Tools and Ecosystem are summarized."
   ]
  },
  {
   "cell_type": "markdown",
   "id": "bce3197a-08f5-432e-a415-8c8070a67f64",
   "metadata": {},
   "source": [
    "Some of the popular languages that Data Scientists use are:\n",
    "\n",
    "1. Python  \n",
    "2. R  \n",
    "3. SQL  \n",
    "4. Julia  \n",
    "5. Scala"
   ]
  },
  {
   "cell_type": "markdown",
   "id": "c026ad56-4614-4f53-b721-fce9be07f36e",
   "metadata": {},
   "source": [
    "Some of the commonly used libraries used by Data Scientists include:\n",
    "\n",
    "1. Pandas  \n",
    "2. NumPy  \n",
    "3. Matplotlib  \n",
    "4. Scikit-learn  \n",
    "5. TensorFlow"
   ]
  },
  {
   "cell_type": "markdown",
   "id": "9625fb0b-ec2f-46e8-90c5-6468452e93d9",
   "metadata": {},
   "source": [
    "| Data Science Tools        |\n",
    "|:--------------------------|\n",
    "| Jupyter Notebook          |\n",
    "| RStudio                   |\n",
    "| Apache Zeppelin           |"
   ]
  },
  {
   "cell_type": "markdown",
   "id": "7fd87d85-dd27-4c6d-b819-fcd5d41448b0",
   "metadata": {},
   "source": [
    "### Below are a few examples of evaluating arithmetic expressions in Python."
   ]
  },
  {
   "cell_type": "code",
   "execution_count": 9,
   "id": "f0455428-b20e-4114-b53d-000531da3fb0",
   "metadata": {},
   "outputs": [
    {
     "data": {
      "text/plain": [
       "17"
      ]
     },
     "execution_count": 9,
     "metadata": {},
     "output_type": "execute_result"
    }
   ],
   "source": [
    "# This is a simple arithmetic expression to multiply then add integers\n",
    "(3 * 4) + 5"
   ]
  },
  {
   "cell_type": "code",
   "execution_count": 11,
   "id": "bb0ab5c0-05ce-44f7-a594-2d869c850fbc",
   "metadata": {},
   "outputs": [
    {
     "data": {
      "text/plain": [
       "3.3333333333333335"
      ]
     },
     "execution_count": 11,
     "metadata": {},
     "output_type": "execute_result"
    }
   ],
   "source": [
    "# This will convert 200 minutes to hours by dividing by 60\n",
    "200 / 60"
   ]
  },
  {
   "cell_type": "markdown",
   "id": "9e3df178-1877-46de-bfd4-22c4031be1e5",
   "metadata": {},
   "source": [
    "**Objectives:**\n",
    "\n",
    "- List popular languages for Data Science  \n",
    "- Identify commonly used libraries in Data Science  \n",
    "- Create and format tables in markdown  \n",
    "- Perform arithmetic operations using Python  \n",
    "- Convert units using simple Python expressions  "
   ]
  },
  {
   "cell_type": "markdown",
   "id": "780b295f-d279-40fc-87d9-1120df9ec8fa",
   "metadata": {},
   "source": [
    "## Author\n",
    "\n",
    "Rinto Octavian Loekito"
   ]
  },
  {
   "cell_type": "code",
   "execution_count": null,
   "id": "788b8e47-cf7c-41b3-8302-e078e5053b50",
   "metadata": {},
   "outputs": [],
   "source": []
  }
 ],
 "metadata": {
  "kernelspec": {
   "display_name": "Python [conda env:ibm_ds_env]",
   "language": "python",
   "name": "conda-env-ibm_ds_env-py"
  },
  "language_info": {
   "codemirror_mode": {
    "name": "ipython",
    "version": 3
   },
   "file_extension": ".py",
   "mimetype": "text/x-python",
   "name": "python",
   "nbconvert_exporter": "python",
   "pygments_lexer": "ipython3",
   "version": "3.10.16"
  }
 },
 "nbformat": 4,
 "nbformat_minor": 5
}
